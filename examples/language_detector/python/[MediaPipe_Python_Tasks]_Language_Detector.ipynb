{
  "cells": [
    {
      "cell_type": "markdown",
      "metadata": {
        "id": "h2q27gKz1H20"
      },
      "source": [
        "##### Copyright 2023 The MediaPipe Authors. All Rights Reserved."
      ]
    },
    {
      "cell_type": "code",
      "execution_count": null,
      "metadata": {
        "id": "TUfAcER1oUS6"
      },
      "outputs": [],
      "source": [
        "#@title Licensed under the Apache License, Version 2.0 (the \"License\");\n",
        "# you may not use this file except in compliance with the License.\n",
        "# You may obtain a copy of the License at\n",
        "#\n",
        "# https://www.apache.org/licenses/LICENSE-2.0\n",
        "#\n",
        "# Unless required by applicable law or agreed to in writing, software\n",
        "# distributed under the License is distributed on an \"AS IS\" BASIS,\n",
        "# WITHOUT WARRANTIES OR CONDITIONS OF ANY KIND, either express or implied.\n",
        "# See the License for the specific language governing permissions and\n",
        "# limitations under the License."
      ]
    },
    {
      "cell_type": "markdown",
      "metadata": {
        "id": "L_cQX8dWu4Dv"
      },
      "source": [
        "# Language Detector with MediaPipe Tasks\n",
        "\n",
        "This notebook shows you how to use MediaPipe Tasks Python API to detect the language(s) in text."
      ]
    },
    {
      "cell_type": "markdown",
      "metadata": {
        "id": "99IjoWCyDk7g"
      },
      "source": [
        "## Preparation\n",
        "\n",
        "Let's start with installing MediaPipe."
      ]
    },
    {
      "cell_type": "code",
      "execution_count": null,
      "metadata": {
        "id": "gxbHBsF-8Y_l"
      },
      "outputs": [],
      "source": [
        "!pip install -q mediapipe"
      ]
    },
    {
      "cell_type": "markdown",
      "metadata": {
        "id": "QGNTJpASRDpI"
      },
      "source": [
        "Then download an off-the-shelf model. Check out the [MediaPipe documentation](https://developers.devsite.corp.google.com/mediapipe/solutions/guide) for more language detection models that you can use."
      ]
    },
    {
      "cell_type": "code",
      "execution_count": null,
      "metadata": {
        "id": "OMjuVQiDYJKF"
      },
      "outputs": [],
      "source": [
        "!wget -O detector.tflite -q https://storage.googleapis.com/mediapipe-models/language_detector/language_detector/float32/latest/language_detector.tflite"
      ]
    },
    {
      "cell_type": "markdown",
      "metadata": {
        "id": "Iy4r2_ePylIa"
      },
      "source": [
        "## Running inference\n",
        "\n",
        "Here are the steps to run lanugage detection using MediaPipe.\n",
        "\n",
        "Check out the [MediaPipe documentation](https://developers.google.com/mediapipe/solutions/text/language_detector/python) to learn more about configuration options that this solution supports."
      ]
    },
    {
      "cell_type": "markdown",
      "metadata": {
        "id": "mhql0IPCcDBs"
      },
      "source": [
        "You can try the following examples to try the API out or enter your own text\n",
        "in the text bar.\n",
        "\n",
        "* **English**: To be, or not to be, that is the question\n",
        "\n",
        "* **French** - Il y a beaucoup de bouches qui parlent et fort peu de têtes qui pensent\n",
        "\n",
        "* **Russian** - это какой-то английский язык\n",
        "\n",
        "* **Mixed** - 分久必合合久必分"
      ]
    },
    {
      "cell_type": "code",
      "execution_count": null,
      "metadata": {
        "id": "VwROOdg9l1KM"
      },
      "outputs": [],
      "source": [
        "# Define the input text that you wants the model to classify.\n",
        "INPUT_TEXT = \"\\u5206\\u4E45\\u5FC5\\u5408\\u5408\\u4E45\\u5FC5\\u5206\" #@param {type:\"string\"}"
      ]
    },
    {
      "cell_type": "code",
      "execution_count": null,
      "metadata": {
        "id": "Yl_Oiye4mUuo"
      },
      "outputs": [],
      "source": [
        "# STEP 1: Import the necessary modules.\n",
        "from mediapipe.tasks import python\n",
        "from mediapipe.tasks.python import text\n",
        "\n",
        "# STEP 2: Create a LanguageDetector object.\n",
        "base_options = python.BaseOptions(model_asset_path=\"detector.tflite\")\n",
        "options = text.LanguageDetectorOptions(base_options=base_options)\n",
        "detector = text.LanguageDetector.create_from_options(options)\n",
        "\n",
        "# STEP 3: Get the language detcetion result for the input text.\n",
        "detection_result = detector.detect(INPUT_TEXT)\n",
        "\n",
        "# STEP 4: Process the detection result and print the languages detected and\n",
        "# their scores.\n",
        "\n",
        "for detection in detection_result.detections:\n",
        "  print(f'{detection.language_code}: ({detection.probability:.2f})')"
      ]
    }
  ],
  "metadata": {
    "colab": {
      "provenance": []
    },
    "kernelspec": {
      "display_name": "Python 3 (ipykernel)",
      "language": "python",
      "name": "python3"
    },
    "language_info": {
      "codemirror_mode": {
        "name": "ipython",
        "version": 3
      },
      "file_extension": ".py",
      "mimetype": "text/x-python",
      "name": "python",
      "nbconvert_exporter": "python",
      "pygments_lexer": "ipython3",
      "version": "3.8.10"
    }
  },
  "nbformat": 4,
  "nbformat_minor": 0
}
